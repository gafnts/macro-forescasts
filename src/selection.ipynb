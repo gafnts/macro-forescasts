{
 "cells": [
  {
   "cell_type": "code",
   "execution_count": 2,
   "metadata": {},
   "outputs": [],
   "source": [
    "from utilities import create_fred_client\n",
    "fred_client = create_fred_client()"
   ]
  },
  {
   "cell_type": "code",
   "execution_count": 24,
   "metadata": {},
   "outputs": [
    {
     "data": {
      "text/html": [
       "<div>\n",
       "<style scoped>\n",
       "    .dataframe tbody tr th:only-of-type {\n",
       "        vertical-align: middle;\n",
       "    }\n",
       "\n",
       "    .dataframe tbody tr th {\n",
       "        vertical-align: top;\n",
       "    }\n",
       "\n",
       "    .dataframe thead th {\n",
       "        text-align: right;\n",
       "    }\n",
       "</style>\n",
       "<table border=\"1\" class=\"dataframe\">\n",
       "  <thead>\n",
       "    <tr style=\"text-align: right;\">\n",
       "      <th></th>\n",
       "      <th>title</th>\n",
       "      <th>observation_start</th>\n",
       "      <th>observation_end</th>\n",
       "      <th>frequency</th>\n",
       "      <th>units</th>\n",
       "      <th>seasonal_adjustment</th>\n",
       "      <th>last_updated</th>\n",
       "      <th>popularity</th>\n",
       "    </tr>\n",
       "    <tr>\n",
       "      <th>series id</th>\n",
       "      <th></th>\n",
       "      <th></th>\n",
       "      <th></th>\n",
       "      <th></th>\n",
       "      <th></th>\n",
       "      <th></th>\n",
       "      <th></th>\n",
       "      <th></th>\n",
       "    </tr>\n",
       "  </thead>\n",
       "  <tbody>\n",
       "    <tr>\n",
       "      <th>GDP</th>\n",
       "      <td>Gross Domestic Product</td>\n",
       "      <td>1947-01-01</td>\n",
       "      <td>2024-07-01</td>\n",
       "      <td>Quarterly</td>\n",
       "      <td>Billions of Dollars</td>\n",
       "      <td>Seasonally Adjusted Annual Rate</td>\n",
       "      <td>2024-12-19 07:55:01-06:00</td>\n",
       "      <td>93</td>\n",
       "    </tr>\n",
       "  </tbody>\n",
       "</table>\n",
       "</div>"
      ],
      "text/plain": [
       "                            title observation_start observation_end  \\\n",
       "series id                                                             \n",
       "GDP        Gross Domestic Product        1947-01-01      2024-07-01   \n",
       "\n",
       "           frequency                units              seasonal_adjustment  \\\n",
       "series id                                                                    \n",
       "GDP        Quarterly  Billions of Dollars  Seasonally Adjusted Annual Rate   \n",
       "\n",
       "                        last_updated popularity  \n",
       "series id                                        \n",
       "GDP        2024-12-19 07:55:01-06:00         93  "
      ]
     },
     "execution_count": 24,
     "metadata": {},
     "output_type": "execute_result"
    }
   ],
   "source": [
    "variable = 'GDP'\n",
    "\n",
    "data = (\n",
    "    fred_client\n",
    "    .search(variable)\n",
    "    .query(f\"id == '{variable}'\")\n",
    "    .drop(\n",
    "        columns=[\n",
    "            \"id\",\n",
    "            \"realtime_start\",\n",
    "            \"realtime_end\",\n",
    "            \"frequency_short\",\n",
    "            \"units_short\",\n",
    "            \"seasonal_adjustment_short\",\n",
    "            \"notes\",\n",
    "        ]\n",
    "    )\n",
    ")\n",
    "\n",
    "data"
   ]
  }
 ],
 "metadata": {
  "kernelspec": {
   "display_name": ".venv",
   "language": "python",
   "name": "python3"
  },
  "language_info": {
   "codemirror_mode": {
    "name": "ipython",
    "version": 3
   },
   "file_extension": ".py",
   "mimetype": "text/x-python",
   "name": "python",
   "nbconvert_exporter": "python",
   "pygments_lexer": "ipython3",
   "version": "3.13.0"
  }
 },
 "nbformat": 4,
 "nbformat_minor": 2
}
