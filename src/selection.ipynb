{
 "cells": [
  {
   "cell_type": "code",
   "execution_count": 2,
   "metadata": {},
   "outputs": [],
   "source": [
    "from utilities import create_fred_client\n",
    "\n",
    "fred_client = create_fred_client()"
   ]
  },
  {
   "cell_type": "code",
   "execution_count": 27,
   "metadata": {},
   "outputs": [
    {
     "name": "stdout",
     "output_type": "stream",
     "text": [
      "{'USRECD': {'name': 'nberg_recession_indicator', 'category': 'real_economy'}, 'GDPC1': {'name': 'real_gross_domestic_product', 'category': 'real_economy'}, 'A261RX1Q020SBEA': {'name': 'real_gross_domestic_income', 'category': 'real_economy'}, 'GPDIC1': {'name': 'real_gross_private_domestic_investment', 'category': 'real_economy'}, 'W207RC1Q156SBEA': {'name': 'net_saving_as_percentage_of_gni', 'category': 'real_economy'}, 'UNRATE': {'name': 'unemployment_rate', 'category': 'labor_market'}, 'EMRATIO': {'name': 'employment_population_ratio', 'category': 'labor_market'}, 'PAYEMS': {'name': 'all_employees_total_nonfarm', 'category': 'labor_market'}, 'USGOOD': {'name': 'all_employees_goods_producing', 'category': 'labor_market'}, 'SRVPRD': {'name': 'all_employees_service_providing', 'category': 'labor_market'}, 'CP': {'name': 'corporate_profits_after_tax', 'category': 'corporate'}, 'DFF': {'name': 'federal_funds_effective_rate', 'category': 'monetary'}, 'PCEPI': {'name': 'personal_consumption_expenditures_price_index', 'category': 'monetary'}, 'CORESTICKM159SFRBATL': {'name': 'sticky_price_cpi_less_food_and_energy', 'category': 'monetary'}, 'MBCURRCIR': {'name': 'monetary_base_currency_in_circulation', 'category': 'monetary'}, 'M1SL': {'name': 'm1_money_stock', 'category': 'monetary'}, 'M1V': {'name': 'velocity_of_m1_money_stock', 'category': 'monetary'}, 'M2SL': {'name': 'm2_money_stock', 'category': 'monetary'}, 'M2V': {'name': 'velocity_of_m2_money_stock', 'category': 'monetary'}, 'T10Y3M': {'name': '10y_treasury_3m_treasury_spread', 'category': 'financial_market'}, 'T10Y2Y': {'name': '10y_treasury_2y_treasury_spread', 'category': 'financial_market'}, 'NASDAQCOM': {'name': 'nasdaq_composite_index', 'category': 'financial_market'}, 'NASDAQ100': {'name': 'nasdaq_100_index', 'category': 'financial_market'}, 'NFCI': {'name': 'chicago_fed_national_financial_conditions_index', 'category': 'financial_market'}, 'STLFSI4': {'name': 'st_louis_fed_financial_stress_index', 'category': 'financial_market'}, 'BAMLH0A0HYM2': {'name': 'ice_bofa_us_high_yield_option_adjusted_spread', 'category': 'financial_market'}, 'TOTALSL': {'name': 'total_consumer_credit_outstanding', 'category': 'credit_market'}, 'BUSLOANS': {'name': 'commercial_and_industrial_loans', 'category': 'credit_market'}, 'DRBLACBS': {'name': 'delinquency_rate_on_business_loans', 'category': 'credit_market'}, 'DRCCLACBS': {'name': 'delinquency_rate_on_credit_card_loans', 'category': 'credit_market'}, 'DRCLACBS': {'name': 'delinquency_rate_on_consumer_loans', 'category': 'credit_market'}, 'DRALACBS': {'name': 'delinquency_rate_on_all_loans', 'category': 'credit_market'}, 'TOTBKCR': {'name': 'bank_credit_of_all_commercial_banks', 'category': 'credit_market'}, 'BCNSDODNS': {'name': 'nonfinancial_corporate_business_debt_securities_and_loans', 'category': 'credit_market'}, 'HOUST': {'name': 'housing_starts', 'category': 'housing_market'}, 'MORTGAGE30US': {'name': '30_year_fixed_rate_mortgage_average', 'category': 'housing_market'}, 'MSPUS': {'name': 'median_sales_price_of_houses_sold', 'category': 'housing_market'}, 'CSUSHPISA': {'name': 'case_shiller_us_national_home_price_index', 'category': 'housing_market'}, 'GFDEGDQ188S': {'name': 'federal_debt_as_percent_of_gdp', 'category': 'fiscal_policy'}, 'FYFSGDA188S': {'name': 'federal_surplus_deficit_as_percent_of_gdp', 'category': 'fiscal_policy'}, 'GFDEBTN': {'name': 'federal_debt_total_public_debt', 'category': 'fiscal_policy'}, 'UMCSENT': {'name': 'consumer_sentiment', 'category': 'sentiment'}, 'CSCICP03USM665S': {'name': 'composite_consumer_confidence_amplitud', 'category': 'sentiment'}, 'BSCICP03USM665S': {'name': 'composite_business_confidence_amplitud', 'category': 'sentiment'}}\n"
     ]
    }
   ],
   "source": [
    "import json\n",
    "\n",
    "\n",
    "def import_series(file_path: str) -> dict:\n",
    "    with open(file_path, \"r\") as file:\n",
    "        data = json.load(file)\n",
    "    return data\n",
    "\n",
    "\n",
    "series = import_series(\"static/series.json\")\n",
    "print(series)"
   ]
  },
  {
   "cell_type": "code",
   "execution_count": 30,
   "metadata": {},
   "outputs": [
    {
     "name": "stdout",
     "output_type": "stream",
     "text": [
      "{'name': 'nberg_recession_indicator', 'category': 'real_economy'}\n",
      "{'name': 'real_gross_domestic_product', 'category': 'real_economy'}\n",
      "{'name': 'real_gross_domestic_income', 'category': 'real_economy'}\n",
      "{'name': 'real_gross_private_domestic_investment', 'category': 'real_economy'}\n",
      "{'name': 'net_saving_as_percentage_of_gni', 'category': 'real_economy'}\n",
      "{'name': 'unemployment_rate', 'category': 'labor_market'}\n",
      "{'name': 'employment_population_ratio', 'category': 'labor_market'}\n",
      "{'name': 'all_employees_total_nonfarm', 'category': 'labor_market'}\n",
      "{'name': 'all_employees_goods_producing', 'category': 'labor_market'}\n",
      "{'name': 'all_employees_service_providing', 'category': 'labor_market'}\n",
      "{'name': 'corporate_profits_after_tax', 'category': 'corporate'}\n",
      "{'name': 'federal_funds_effective_rate', 'category': 'monetary'}\n",
      "{'name': 'personal_consumption_expenditures_price_index', 'category': 'monetary'}\n",
      "{'name': 'sticky_price_cpi_less_food_and_energy', 'category': 'monetary'}\n",
      "{'name': 'monetary_base_currency_in_circulation', 'category': 'monetary'}\n",
      "{'name': 'm1_money_stock', 'category': 'monetary'}\n",
      "{'name': 'velocity_of_m1_money_stock', 'category': 'monetary'}\n",
      "{'name': 'm2_money_stock', 'category': 'monetary'}\n",
      "{'name': 'velocity_of_m2_money_stock', 'category': 'monetary'}\n",
      "{'name': '10y_treasury_3m_treasury_spread', 'category': 'financial_market'}\n",
      "{'name': '10y_treasury_2y_treasury_spread', 'category': 'financial_market'}\n",
      "{'name': 'nasdaq_composite_index', 'category': 'financial_market'}\n",
      "{'name': 'nasdaq_100_index', 'category': 'financial_market'}\n",
      "{'name': 'chicago_fed_national_financial_conditions_index', 'category': 'financial_market'}\n",
      "{'name': 'st_louis_fed_financial_stress_index', 'category': 'financial_market'}\n",
      "{'name': 'ice_bofa_us_high_yield_option_adjusted_spread', 'category': 'financial_market'}\n",
      "{'name': 'total_consumer_credit_outstanding', 'category': 'credit_market'}\n",
      "{'name': 'commercial_and_industrial_loans', 'category': 'credit_market'}\n",
      "{'name': 'delinquency_rate_on_business_loans', 'category': 'credit_market'}\n",
      "{'name': 'delinquency_rate_on_credit_card_loans', 'category': 'credit_market'}\n",
      "{'name': 'delinquency_rate_on_consumer_loans', 'category': 'credit_market'}\n",
      "{'name': 'delinquency_rate_on_all_loans', 'category': 'credit_market'}\n",
      "{'name': 'bank_credit_of_all_commercial_banks', 'category': 'credit_market'}\n",
      "{'name': 'nonfinancial_corporate_business_debt_securities_and_loans', 'category': 'credit_market'}\n",
      "{'name': 'housing_starts', 'category': 'housing_market'}\n",
      "{'name': '30_year_fixed_rate_mortgage_average', 'category': 'housing_market'}\n",
      "{'name': 'median_sales_price_of_houses_sold', 'category': 'housing_market'}\n",
      "{'name': 'case_shiller_us_national_home_price_index', 'category': 'housing_market'}\n",
      "{'name': 'federal_debt_as_percent_of_gdp', 'category': 'fiscal_policy'}\n",
      "{'name': 'federal_surplus_deficit_as_percent_of_gdp', 'category': 'fiscal_policy'}\n",
      "{'name': 'federal_debt_total_public_debt', 'category': 'fiscal_policy'}\n",
      "{'name': 'consumer_sentiment', 'category': 'sentiment'}\n",
      "{'name': 'composite_consumer_confidence_amplitud', 'category': 'sentiment'}\n",
      "{'name': 'composite_business_confidence_amplitud', 'category': 'sentiment'}\n"
     ]
    }
   ],
   "source": [
    "for key, value in series.items():\n",
    "    print(value)"
   ]
  },
  {
   "cell_type": "code",
   "execution_count": 24,
   "metadata": {},
   "outputs": [
    {
     "data": {
      "text/html": [
       "<div>\n",
       "<style scoped>\n",
       "    .dataframe tbody tr th:only-of-type {\n",
       "        vertical-align: middle;\n",
       "    }\n",
       "\n",
       "    .dataframe tbody tr th {\n",
       "        vertical-align: top;\n",
       "    }\n",
       "\n",
       "    .dataframe thead th {\n",
       "        text-align: right;\n",
       "    }\n",
       "</style>\n",
       "<table border=\"1\" class=\"dataframe\">\n",
       "  <thead>\n",
       "    <tr style=\"text-align: right;\">\n",
       "      <th></th>\n",
       "      <th>title</th>\n",
       "      <th>observation_start</th>\n",
       "      <th>observation_end</th>\n",
       "      <th>frequency</th>\n",
       "      <th>units</th>\n",
       "      <th>seasonal_adjustment</th>\n",
       "      <th>last_updated</th>\n",
       "      <th>popularity</th>\n",
       "    </tr>\n",
       "    <tr>\n",
       "      <th>series id</th>\n",
       "      <th></th>\n",
       "      <th></th>\n",
       "      <th></th>\n",
       "      <th></th>\n",
       "      <th></th>\n",
       "      <th></th>\n",
       "      <th></th>\n",
       "      <th></th>\n",
       "    </tr>\n",
       "  </thead>\n",
       "  <tbody>\n",
       "    <tr>\n",
       "      <th>GDP</th>\n",
       "      <td>Gross Domestic Product</td>\n",
       "      <td>1947-01-01</td>\n",
       "      <td>2024-07-01</td>\n",
       "      <td>Quarterly</td>\n",
       "      <td>Billions of Dollars</td>\n",
       "      <td>Seasonally Adjusted Annual Rate</td>\n",
       "      <td>2024-12-19 07:55:01-06:00</td>\n",
       "      <td>93</td>\n",
       "    </tr>\n",
       "  </tbody>\n",
       "</table>\n",
       "</div>"
      ],
      "text/plain": [
       "                            title observation_start observation_end  \\\n",
       "series id                                                             \n",
       "GDP        Gross Domestic Product        1947-01-01      2024-07-01   \n",
       "\n",
       "           frequency                units              seasonal_adjustment  \\\n",
       "series id                                                                    \n",
       "GDP        Quarterly  Billions of Dollars  Seasonally Adjusted Annual Rate   \n",
       "\n",
       "                        last_updated popularity  \n",
       "series id                                        \n",
       "GDP        2024-12-19 07:55:01-06:00         93  "
      ]
     },
     "execution_count": 24,
     "metadata": {},
     "output_type": "execute_result"
    }
   ],
   "source": [
    "variable = \"GDP\"\n",
    "\n",
    "data = (\n",
    "    fred_client.search(variable)\n",
    "    .query(f\"id == '{variable}'\")\n",
    "    .drop(\n",
    "        columns=[\n",
    "            \"id\",\n",
    "            \"realtime_start\",\n",
    "            \"realtime_end\",\n",
    "            \"frequency_short\",\n",
    "            \"units_short\",\n",
    "            \"seasonal_adjustment_short\",\n",
    "            \"notes\",\n",
    "        ]\n",
    "    )\n",
    ")\n",
    "\n",
    "data"
   ]
  }
 ],
 "metadata": {
  "kernelspec": {
   "display_name": ".venv",
   "language": "python",
   "name": "python3"
  },
  "language_info": {
   "codemirror_mode": {
    "name": "ipython",
    "version": 3
   },
   "file_extension": ".py",
   "mimetype": "text/x-python",
   "name": "python",
   "nbconvert_exporter": "python",
   "pygments_lexer": "ipython3",
   "version": "3.13.0"
  }
 },
 "nbformat": 4,
 "nbformat_minor": 2
}
