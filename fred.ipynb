{
 "cells": [
  {
   "cell_type": "markdown",
   "metadata": {},
   "source": [
    "# Data extraction"
   ]
  },
  {
   "cell_type": "code",
   "execution_count": 3,
   "metadata": {},
   "outputs": [],
   "source": [
    "import os\n",
    "import json\n",
    "import pandas as pd\n",
    "import seaborn as sns\n",
    "import matplotlib.pyplot as plt\n",
    "from utilities import create_fred_client\n",
    "\n",
    "fred = create_fred_client()"
   ]
  },
  {
   "cell_type": "code",
   "execution_count": null,
   "metadata": {},
   "outputs": [],
   "source": [
    "with open(os.path.join(os.getcwd(), \"series.json\"), \"r\") as file:\n",
    "    data = json.load(file)\n",
    "\n",
    "for key, value in data.items():\n",
    "    print(key, \"-\", value.lower())"
   ]
  },
  {
   "cell_type": "code",
   "execution_count": 3,
   "metadata": {},
   "outputs": [],
   "source": [
    "df_collector = pd.DataFrame()\n",
    "\n",
    "for key, value in data.items():\n",
    "    data = fred.get_series(key)\n",
    "\n",
    "    df = (\n",
    "        pd.DataFrame(data, columns=[key])\n",
    "        .reset_index()\n",
    "        .rename(columns={\"index\": \"date\"})\n",
    "    )\n",
    "\n",
    "    df_collector = pd.concat([df_collector, df], axis=1)"
   ]
  },
  {
   "cell_type": "code",
   "execution_count": null,
   "metadata": {},
   "outputs": [],
   "source": [
    "df_collector.tail(50)"
   ]
  },
  {
   "cell_type": "code",
   "execution_count": null,
   "metadata": {},
   "outputs": [],
   "source": [
    "plt.figure(figsize=(14, 7), dpi=300)\n",
    "\n",
    "sns.set_theme(style=\"darkgrid\")\n",
    "sns.lineplot(data=df, x=\"date\", y=series, label=series)\n",
    "\n",
    "plt.title(f\"{series} Over Time\", fontsize=18)\n",
    "plt.xlabel(\"Date\", fontsize=14)\n",
    "plt.ylabel(series, fontsize=14)\n",
    "plt.legend(title=\"Series\")\n",
    "plt.tight_layout()\n",
    "\n",
    "plt.show()"
   ]
  },
  {
   "cell_type": "code",
   "execution_count": null,
   "metadata": {},
   "outputs": [],
   "source": []
  }
 ],
 "metadata": {
  "kernelspec": {
   "display_name": ".venv",
   "language": "python",
   "name": "python3"
  },
  "language_info": {
   "codemirror_mode": {
    "name": "ipython",
    "version": 3
   },
   "file_extension": ".py",
   "mimetype": "text/x-python",
   "name": "python",
   "nbconvert_exporter": "python",
   "pygments_lexer": "ipython3",
   "version": "3.13.0"
  }
 },
 "nbformat": 4,
 "nbformat_minor": 2
}
